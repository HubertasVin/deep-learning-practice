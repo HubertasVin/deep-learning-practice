{
  "nbformat": 4,
  "nbformat_minor": 0,
  "metadata": {
    "colab": {
      "provenance": [],
      "gpuType": "T4",
      "authorship_tag": "ABX9TyMX/NlyWL9MM7LZDo0R8uUi",
      "include_colab_link": true
    },
    "kernelspec": {
      "name": "python3",
      "display_name": "Python 3"
    },
    "language_info": {
      "name": "python"
    },
    "accelerator": "GPU"
  },
  "cells": [
    {
      "cell_type": "markdown",
      "metadata": {
        "id": "view-in-github",
        "colab_type": "text"
      },
      "source": [
        "<a href=\"https://colab.research.google.com/github/HubertasVin/deep-learning-practice/blob/main/Lab2.ipynb\" target=\"_parent\"><img src=\"https://colab.research.google.com/assets/colab-badge.svg\" alt=\"Open In Colab\"/></a>"
      ]
    },
    {
      "cell_type": "markdown",
      "source": [
        "Importuojamos reikalingos bibliotekos"
      ],
      "metadata": {
        "id": "iRWxyW2qV9II"
      }
    },
    {
      "cell_type": "code",
      "execution_count": 14,
      "metadata": {
        "id": "SavZT7mEJteq",
        "colab": {
          "base_uri": "https://localhost:8080/"
        },
        "outputId": "1df26649-7857-4df0-a2d5-c0e543fb5b1b"
      },
      "outputs": [
        {
          "output_type": "stream",
          "name": "stdout",
          "text": [
            "Requirement already satisfied: pyngrok in /usr/local/lib/python3.11/dist-packages (7.2.3)\n",
            "Requirement already satisfied: PyYAML>=5.1 in /usr/local/lib/python3.11/dist-packages (from pyngrok) (6.0.2)\n",
            "Drive already mounted at /content/drive; to attempt to forcibly remount, call drive.mount(\"/content/drive\", force_remount=True).\n",
            "Public URL: NgrokTunnel: \"https://5ee7-34-16-170-133.ngrok-free.app\" -> \"http://localhost:5000\"\n",
            "Using device: cuda:0\n"
          ]
        }
      ],
      "source": [
        "!pip install pyngrok\n",
        "\n",
        "import os\n",
        "import numpy as np\n",
        "import torch\n",
        "import torch.nn as nn\n",
        "import torch.optim as optim\n",
        "from torch.utils.data import Dataset, DataLoader, random_split\n",
        "from torchvision import transforms\n",
        "from PIL import Image\n",
        "from sklearn.metrics import confusion_matrix, accuracy_score, precision_score, recall_score, f1_score\n",
        "import matplotlib.pyplot as plt\n",
        "from google.colab import drive\n",
        "from flask import Flask, request, jsonify\n",
        "from IPython import get_ipython\n",
        "from pyngrok import ngrok\n",
        "\n",
        "from google.colab import drive\n",
        "drive.mount('/content/drive')\n",
        "\n",
        "# Authtoken'a galima rasti cia: https://dashboard.ngrok.com/get-started/your-authtoken\n",
        "ngrok.set_auth_token(\"2v8l4mW8zOFneFzX7p47qORuEwS_4EcRU64N6iq1mUNEpXN3G\")\n",
        "\n",
        "public_url = ngrok.connect(5000)\n",
        "print(\"Public URL:\", public_url)\n",
        "\n",
        "device = torch.device('cuda:0' if torch.cuda.is_available() else 'cpu')\n",
        "print(\"Using device:\", device)\n",
        "\n",
        "DATA_DIR = '/content/drive/MyDrive/colab_content/OpenImages'\n",
        "TRAIN_MODE = True"
      ]
    },
    {
      "cell_type": "markdown",
      "source": [
        "Duomenų įkėlimas ir paruošimas"
      ],
      "metadata": {
        "id": "ojsetMNbV_SW"
      }
    },
    {
      "cell_type": "code",
      "source": [
        "# Naudojame image_dataset_from_directory funkciją, kuri automatiškai padalina duomenis\n",
        "# į mokymo (training) ir validacijos (validation) aibes pagal nurodytą validacijos split\n",
        "transforms_train = transforms.Compose([\n",
        "    transforms.RandomRotation(15),\n",
        "    transforms.Resize((128, 128)),\n",
        "    transforms.RandomHorizontalFlip(),\n",
        "    transforms.ToTensor(),\n",
        "    transforms.Normalize(mean=(0.5, 0.5, 0.5), std=(0.5, 0.5, 0.5))\n",
        "])\n",
        "\n",
        "transforms_test = transforms.Compose([\n",
        "    transforms.Resize((128, 128)),\n",
        "    transforms.ToTensor(),\n",
        "    transforms.Normalize(mean=(0.5, 0.5, 0.5), std=(0.5, 0.5, 0.5))\n",
        "])\n",
        "\n",
        "class CustomDataset(Dataset):\n",
        "    def __init__(self, root_dir, transform=None):\n",
        "        self.root_dir = root_dir\n",
        "        self.transform = transform\n",
        "\n",
        "        # Only consider directories within root_dir\n",
        "        self.classes = sorted([d for d in os.listdir(root_dir) if os.path.isdir(os.path.join(root_dir, d))])\n",
        "        self.class_to_idx = {cls_name: idx for idx, cls_name in enumerate(self.classes)}\n",
        "        print(\"Found classes:\", self.classes)\n",
        "\n",
        "        self.image_paths = []\n",
        "        self.labels = []\n",
        "\n",
        "        # Loop through each class folder and look for an 'images' subdirectory\n",
        "        for cls in self.classes:\n",
        "            cls_images_dir = os.path.join(root_dir, cls, \"images\")\n",
        "            if os.path.isdir(cls_images_dir):\n",
        "                files = os.listdir(cls_images_dir)\n",
        "                print(f\"Found {len(files)} files in {cls_images_dir}\")\n",
        "                for file in files:\n",
        "                    if file.lower().endswith(('.png', '.jpg', '.jpeg')):\n",
        "                        full_path = os.path.join(cls_images_dir, file)\n",
        "                        self.image_paths.append(full_path)\n",
        "                        self.labels.append(self.class_to_idx[cls])\n",
        "            else:\n",
        "                print(f\"Warning: Expected directory '{cls_images_dir}' not found.\")\n",
        "\n",
        "    def __len__(self):\n",
        "        return len(self.image_paths)\n",
        "\n",
        "    def __getitem__(self, idx):\n",
        "        image_path = self.image_paths[idx]\n",
        "        image = Image.open(image_path)\n",
        "        if image.mode != 'RGB':\n",
        "            image = image.convert('RGB')\n",
        "        if self.transform:\n",
        "            image = self.transform(image)\n",
        "        label = self.labels[idx]\n",
        "        return image, label\n",
        "\n",
        "dataset = CustomDataset(DATA_DIR, transform=transforms_train)\n",
        "print(\"Total image count:\", len(dataset))\n",
        "\n",
        "# Padaliname duomenų rinkinį į mokymo (80%) ir testavimo (20%) aibes\n",
        "train_size = int(0.8 * len(dataset))\n",
        "test_size = len(dataset) - train_size\n",
        "dataset_train, dataset_test = random_split(dataset, [train_size, test_size])\n",
        "print(\"Train size: \", train_size);\n",
        "print(\"Test size: \", test_size);\n",
        "\n",
        "# Ta testavimo aibė naudosime kitą transformaciją (be duomenų augmentacijos)\n",
        "dataset_test.dataset.transform = transforms_test\n",
        "\n",
        "# Sukuriame DataLoader'us\n",
        "batch_size = 16\n",
        "loader_train = DataLoader(dataset_train, batch_size=batch_size, shuffle=True, num_workers=2)\n",
        "loader_test = DataLoader(dataset_test, batch_size=batch_size, shuffle=False, num_workers=2)"
      ],
      "metadata": {
        "colab": {
          "base_uri": "https://localhost:8080/"
        },
        "id": "bTingvrgV_kB",
        "outputId": "9e3566b9-5896-4d5b-ac23-bbd7694258a7"
      },
      "execution_count": 27,
      "outputs": [
        {
          "output_type": "stream",
          "name": "stdout",
          "text": [
            "Found classes: ['sandal', 'strawberry', 'traffic light']\n",
            "Found 301 files in /content/drive/MyDrive/colab_content/OpenImages/sandal/images\n",
            "Found 380 files in /content/drive/MyDrive/colab_content/OpenImages/strawberry/images\n",
            "Found 380 files in /content/drive/MyDrive/colab_content/OpenImages/traffic light/images\n",
            "Total image count: 1061\n",
            "Train size:  848\n",
            "Test size:  213\n"
          ]
        }
      ]
    },
    {
      "cell_type": "markdown",
      "source": [
        "Modelio sukūrimas"
      ],
      "metadata": {
        "id": "1NuOmCoZWEnt"
      }
    },
    {
      "cell_type": "code",
      "source": [
        "class CustomModel(nn.Module):\n",
        "    def __init__(self, in_channels, num_classes):\n",
        "        super(CustomModel, self).__init__()\n",
        "        # Pirmasis blokas\n",
        "        self.conv1 = nn.Conv2d(in_channels, 64, kernel_size=3, padding=1)\n",
        "        self.conv2 = nn.Conv2d(64, 64, kernel_size=3, padding=1)\n",
        "        self.pool1 = nn.MaxPool2d(kernel_size=2, stride=2)\n",
        "        # Antrasis blokas\n",
        "        self.conv3 = nn.Conv2d(64, 128, kernel_size=3, padding=1)\n",
        "        self.pool2 = nn.MaxPool2d(kernel_size=2, stride=2)\n",
        "        # Pilnai sujungti sluoksniai\n",
        "        # Skaičiuojame flatten dydį: pradinė nuotraukos dydis 128x128, po dviejų 2x2 pool sluoksnių -> 32x32\n",
        "        self.fc1 = nn.Linear(128 * 32 * 32, 516)\n",
        "        self.fc2 = nn.Linear(516, 224)\n",
        "        self.fc3 = nn.Linear(224, num_classes)\n",
        "        self.relu = nn.ReLU()\n",
        "\n",
        "    def forward(self, x):\n",
        "        x = self.relu(self.conv1(x))\n",
        "        x = self.relu(self.conv2(x))\n",
        "        x = self.pool1(x)\n",
        "        x = self.relu(self.conv3(x))\n",
        "        x = self.pool2(x)\n",
        "        x = x.view(x.size(0), -1)\n",
        "        x = self.relu(self.fc1(x))\n",
        "        x = self.relu(self.fc2(x))\n",
        "        x = self.fc3(x)\n",
        "        return x\n",
        "\n",
        "num_classes = len(dataset.classes)\n",
        "model = CustomModel(in_channels=3, num_classes=num_classes).to(device)\n",
        "print(\"Parameter count:\", sum(p.numel() for p in model.parameters() if p.requires_grad))"
      ],
      "metadata": {
        "colab": {
          "base_uri": "https://localhost:8080/"
        },
        "id": "qZ_8eLUsWGiK",
        "outputId": "149d861b-0ba4-493c-e3bb-365fc854d0bd"
      },
      "execution_count": 28,
      "outputs": [
        {
          "output_type": "stream",
          "name": "stdout",
          "text": [
            "Parameter count: 67862727\n"
          ]
        }
      ]
    },
    {
      "cell_type": "markdown",
      "source": [
        "Treniravimo ciklas"
      ],
      "metadata": {
        "id": "MdcDTr4TWH-2"
      }
    },
    {
      "cell_type": "code",
      "source": [
        "def train_one_epoch(model, dataloader, criterion, optimizer):\n",
        "    model.train()\n",
        "    running_loss = 0.0\n",
        "    for images, labels in dataloader:\n",
        "        images, labels = images.to(device), labels.to(device)\n",
        "        optimizer.zero_grad()\n",
        "        outputs = model(images)\n",
        "        loss = criterion(outputs, labels)\n",
        "        loss.backward()\n",
        "        optimizer.step()\n",
        "        running_loss += loss.item() * images.size(0)\n",
        "    epoch_loss = running_loss / len(dataloader.dataset)\n",
        "    return epoch_loss\n",
        "\n",
        "def evaluate(model, dataloader):\n",
        "    model.eval()\n",
        "    all_preds = []\n",
        "    all_labels = []\n",
        "    with torch.no_grad():\n",
        "        for images, labels in dataloader:\n",
        "            images = images.to(device)\n",
        "            outputs = model(images)\n",
        "            preds = torch.argmax(outputs, dim=1).cpu().numpy()\n",
        "            all_preds.extend(preds)\n",
        "            all_labels.extend(labels.numpy())\n",
        "    return np.array(all_preds), np.array(all_labels)\n",
        "\n",
        "def train_model(num_epochs=10, lr=1e-3):\n",
        "    criterion = nn.CrossEntropyLoss()\n",
        "    optimizer = optim.Adam(model.parameters(), lr=lr)\n",
        "    train_losses = []\n",
        "    for epoch in range(num_epochs):\n",
        "        loss = train_one_epoch(model, loader_train, criterion, optimizer)\n",
        "        train_losses.append(loss)\n",
        "        preds, labels = evaluate(model, loader_test)\n",
        "        acc = accuracy_score(labels, preds)\n",
        "        print(f\"Epoch {epoch+1}/{num_epochs} - Loss: {loss:.4f} - Test Accuracy: {acc:.4f}\")\n",
        "    # Save the model after training\n",
        "    torch.save(model.state_dict(), \"custom_model.pth\")\n",
        "    return train_losses"
      ],
      "metadata": {
        "id": "aVRx1GMeWJeQ"
      },
      "execution_count": 29,
      "outputs": []
    },
    {
      "cell_type": "markdown",
      "source": [
        "Įjungti / išjungti treniravimo režimą"
      ],
      "metadata": {
        "id": "z2IWs6iHp8ei"
      }
    },
    {
      "cell_type": "code",
      "source": [
        "if TRAIN_MODE:\n",
        "    print(\"Training new model...\")\n",
        "    train_losses = train_model(num_epochs=10, lr=1e-5)\n",
        "    # Plot training loss history\n",
        "    plt.figure(figsize=(8,5))\n",
        "    plt.plot(train_losses, label='Training loss')\n",
        "    plt.xlabel('Epoch')\n",
        "    plt.ylabel('Average loss')\n",
        "    plt.title('Training loss change')\n",
        "    plt.legend()\n",
        "    plt.show()\n",
        "else:\n",
        "    print(\"Loading existing model...\")\n",
        "    model.load_state_dict(torch.load(\"custom_model.pth\", map_location=device))\n",
        "    model.eval()"
      ],
      "metadata": {
        "id": "KnqVvIVqp8wf",
        "outputId": "85a40476-942e-43f7-b15c-76b75343e6c6",
        "colab": {
          "base_uri": "https://localhost:8080/",
          "height": 650
        }
      },
      "execution_count": 31,
      "outputs": [
        {
          "output_type": "stream",
          "name": "stdout",
          "text": [
            "Training new model...\n",
            "Epoch 1/10 - Loss: 0.0805 - Test Accuracy: 0.7371\n",
            "Epoch 2/10 - Loss: 0.0611 - Test Accuracy: 0.7371\n",
            "Epoch 3/10 - Loss: 0.0520 - Test Accuracy: 0.7324\n",
            "Epoch 4/10 - Loss: 0.0457 - Test Accuracy: 0.7371\n",
            "Epoch 5/10 - Loss: 0.0407 - Test Accuracy: 0.7371\n",
            "Epoch 6/10 - Loss: 0.0369 - Test Accuracy: 0.7371\n",
            "Epoch 7/10 - Loss: 0.0334 - Test Accuracy: 0.7277\n",
            "Epoch 8/10 - Loss: 0.0306 - Test Accuracy: 0.7277\n",
            "Epoch 9/10 - Loss: 0.0279 - Test Accuracy: 0.7277\n",
            "Epoch 10/10 - Loss: 0.0254 - Test Accuracy: 0.7277\n"
          ]
        },
        {
          "output_type": "display_data",
          "data": {
            "text/plain": [
              "<Figure size 800x500 with 1 Axes>"
            ],
            "image/png": "[encoded data removed]"
          },
          "metadata": {}
        }
      ]
    },
    {
      "cell_type": "markdown",
      "source": [
        "Install ngrok and check the ip"
      ],
      "metadata": {
        "id": "QJI6yh6GrkUz"
      }
    },
    {
      "cell_type": "code",
      "source": [
        "# !wget https://bin.equinox.io/c/4VmDzA7iaHb/ngrok-stable-linux-amd64.zip\n",
        "# !unzip -o ngrok-stable-linux-amd64.zip\n",
        "\n",
        "# get_ipython().system_raw('python app.py &')\n",
        "# get_ipython().system_raw('./ngrok http 5000 &')\n",
        "\n",
        "# !curl -s http://localhost:4040/api/tunnels | python3 -c \\\n",
        "#     \"import sys, json; print(json.load(sys.stdin)['tunnels'][0]['public_url'])\""
      ],
      "metadata": {
        "id": "Sj2UIZURrknu"
      },
      "execution_count": 32,
      "outputs": []
    },
    {
      "cell_type": "markdown",
      "source": [
        "API skirtas įvesti nuotraukas rankiniu būdu"
      ],
      "metadata": {
        "id": "bb177y8FqPlZ"
      }
    },
    {
      "cell_type": "code",
      "source": [
        "app = Flask(__name__)\n",
        "\n",
        "!curl -s http://localhost:4040/api/tunnels | python3 -c \\\n",
        "    \"import sys, json; print(json.load(sys.stdin)['tunnels'][0]['public_url'])\"\n",
        "\n",
        "# Helper function to predict a single image\n",
        "def predict_image(image_input):\n",
        "    # image_input can be a PIL.Image; apply test transforms\n",
        "    image = transforms_test(image_input)\n",
        "    image = image.unsqueeze(0).to(device)\n",
        "    outputs = model(image)\n",
        "    pred = torch.argmax(outputs, dim=1).item()\n",
        "    # Reverse mapping from index to class name\n",
        "    idx_to_class = {idx: cls for cls, idx in dataset.class_to_idx.items()}\n",
        "    return idx_to_class.get(pred, \"Unknown\")\n",
        "\n",
        "@app.route('/predict', methods=['POST'])\n",
        "def predict():\n",
        "    data = request.get_json(force=True)\n",
        "    if \"url\" in data:\n",
        "        # Load image from URL\n",
        "        import requests\n",
        "        from io import BytesIO\n",
        "        response = requests.get(data[\"url\"])\n",
        "        image = Image.open(BytesIO(response.content))\n",
        "    elif \"file_path\" in data:\n",
        "        # Load image from local file path\n",
        "        image = Image.open(data[\"file_path\"])\n",
        "    else:\n",
        "        return jsonify({\"error\": \"Please provide 'url' or 'file_path' parameter.\"}), 400\n",
        "\n",
        "    # Get prediction\n",
        "    prediction = predict_image(image)\n",
        "    return jsonify({\"prediction\": prediction})\n",
        "\n",
        "# @app.route('/', methods=['GET'])\n",
        "# def home():\n",
        "#     return jsonify({\"Test\": \"test\"})\n",
        "\n",
        "# To run the API, use: python main.py api\n",
        "if __name__ == '__main__':\n",
        "    import sys\n",
        "    # if len(sys.argv) > 1 and sys.argv[1] == 'api':\n",
        "    #     # Run the Flask API\n",
        "    print(\"Starting API...\")\n",
        "    app.run(host='0.0.0.0', port=5000)\n",
        "    # else:\n",
        "    #     print(\"Model training/evaluation complete. To run the API, use: python main.py api\")"
      ],
      "metadata": {
        "id": "M1PVSvtxqP39"
      },
      "execution_count": null,
      "outputs": []
    },
    {
      "cell_type": "markdown",
      "source": [
        "Modelio vertinimas ir metrikų skaičiavimas"
      ],
      "metadata": {
        "id": "5oic35ohWK5e"
      }
    },
    {
      "cell_type": "code",
      "source": [
        "preds, labels = evaluate(model, loader_test)\n",
        "cm = confusion_matrix(labels, preds)\n",
        "acc = accuracy_score(labels, preds)\n",
        "prec = precision_score(labels, preds, average='weighted', zero_division=0)\n",
        "rec = recall_score(labels, preds, average='weighted', zero_division=0)\n",
        "f1 = f1_score(labels, preds, average='weighted', zero_division=0)\n",
        "\n",
        "print(\"\\nKlasifikacijos matrica:\")\n",
        "print(cm)\n",
        "print(\"Accuracy:\", acc)\n",
        "print(\"Precision:\", prec)\n",
        "print(\"Recall:\", rec)\n",
        "print(\"F1:\", f1)"
      ],
      "metadata": {
        "colab": {
          "base_uri": "https://localhost:8080/"
        },
        "id": "Qw2uQ1U5WMPC",
        "outputId": "ccab18a0-50f1-4bbc-ef4b-b8527b33a52e"
      },
      "execution_count": 34,
      "outputs": [
        {
          "output_type": "stream",
          "name": "stdout",
          "text": [
            "\n",
            "Klasifikacijos matrica:\n",
            "[[41 11 10]\n",
            " [14 59  5]\n",
            " [12  6 55]]\n",
            "Accuracy: 0.7276995305164319\n",
            "Precision: 0.7316904833030653\n",
            "Recall: 0.7276995305164319\n",
            "F1: 0.7292532048509776\n"
          ]
        }
      ]
    },
    {
      "cell_type": "markdown",
      "source": [
        "Treniruotės istorijos vizualizacija"
      ],
      "metadata": {
        "id": "y87nef91WOSV"
      }
    },
    {
      "cell_type": "code",
      "source": [
        "plt.figure(figsize=(8, 5))\n",
        "plt.plot(train_losses, label='Training loss')\n",
        "plt.xlabel('Epoch')\n",
        "plt.ylabel('Average loss')\n",
        "plt.title('Training loss change')\n",
        "plt.legend()\n",
        "plt.show()"
      ],
      "metadata": {
        "colab": {
          "base_uri": "https://localhost:8080/",
          "height": 448
        },
        "id": "hgTlearaWPjo",
        "outputId": "b6189fdf-f8b2-4295-9137-833e801393aa"
      },
      "execution_count": 35,
      "outputs": [
        {
          "output_type": "display_data",
          "data": {
            "text/plain": [
              "<Figure size 800x500 with 1 Axes>"
            ],
            "image/png": "[encoded data removed]"
          },
          "metadata": {}
        }
      ]
    }
  ]
}