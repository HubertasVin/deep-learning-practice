{
  "nbformat": 4,
  "nbformat_minor": 0,
  "metadata": {
    "colab": {
      "provenance": [],
      "gpuType": "T4",
      "authorship_tag": "ABX9TyOOXeMjItPbqvKC3sBrzmfr",
      "include_colab_link": true
    },
    "kernelspec": {
      "name": "python3",
      "display_name": "Python 3"
    },
    "language_info": {
      "name": "python"
    },
    "accelerator": "GPU"
  },
  "cells": [
    {
      "cell_type": "markdown",
      "metadata": {
        "id": "view-in-github",
        "colab_type": "text"
      },
      "source": [
        "<a href=\"https://colab.research.google.com/github/HubertasVin/deep-learning-practice/blob/main/Lab2.ipynb\" target=\"_parent\"><img src=\"https://colab.research.google.com/assets/colab-badge.svg\" alt=\"Open In Colab\"/></a>"
      ]
    },
    {
      "cell_type": "markdown",
      "source": [
        "Importuojamos reikalingos bibliotekos"
      ],
      "metadata": {
        "id": "iRWxyW2qV9II"
      }
    },
    {
      "cell_type": "code",
      "execution_count": 33,
      "metadata": {
        "id": "SavZT7mEJteq",
        "colab": {
          "base_uri": "https://localhost:8080/"
        },
        "outputId": "ec8da189-e86d-486c-b468-6ee6d653f53f"
      },
      "outputs": [
        {
          "output_type": "stream",
          "name": "stdout",
          "text": [
            "Using device: cuda:0\n",
            "Drive already mounted at /content/drive; to attempt to forcibly remount, call drive.mount(\"/content/drive\", force_remount=True).\n"
          ]
        }
      ],
      "source": [
        "import os\n",
        "import numpy as np\n",
        "import torch\n",
        "import torch.nn as nn\n",
        "import torch.optim as optim\n",
        "from torch.utils.data import Dataset, DataLoader, random_split\n",
        "from torchvision import transforms\n",
        "from PIL import Image\n",
        "from sklearn.metrics import confusion_matrix, accuracy_score, precision_score, recall_score, f1_score\n",
        "import matplotlib.pyplot as plt\n",
        "from google.colab import drive\n",
        "\n",
        "device = torch.device('cuda:0' if torch.cuda.is_available() else 'cpu')\n",
        "print(\"Using device:\", device)\n",
        "\n",
        "drive.mount('/content/drive')\n",
        "DATA_DIR = '/content/drive/MyDrive/colab_content/OpenImages'"
      ]
    },
    {
      "cell_type": "markdown",
      "source": [
        "Duomenų įkėlimas ir paruošimas"
      ],
      "metadata": {
        "id": "ojsetMNbV_SW"
      }
    },
    {
      "cell_type": "code",
      "source": [
        "# Naudojame image_dataset_from_directory funkciją, kuri automatiškai padalina duomenis\n",
        "# į mokymo (training) ir validacijos (validation) aibes pagal nurodytą validacijos split\n",
        "transforms_train = transforms.Compose([\n",
        "    transforms.RandomRotation(15),\n",
        "    transforms.Resize((128, 128)),\n",
        "    transforms.RandomHorizontalFlip(),\n",
        "    transforms.ToTensor(),\n",
        "    transforms.Normalize(mean=(0.5, 0.5, 0.5), std=(0.5, 0.5, 0.5))\n",
        "])\n",
        "\n",
        "transforms_test = transforms.Compose([\n",
        "    transforms.Resize((128, 128)),\n",
        "    transforms.ToTensor(),\n",
        "    transforms.Normalize(mean=(0.5, 0.5, 0.5), std=(0.5, 0.5, 0.5))\n",
        "])\n",
        "\n",
        "class CustomDataset(Dataset):\n",
        "    def __init__(self, root_dir, transform=None):\n",
        "        self.root_dir = root_dir\n",
        "        self.transform = transform\n",
        "\n",
        "        self.classes = sorted([d for d in os.listdir(root_dir) if os.path.isdir(os.path.join(root_dir, d))])\n",
        "        self.class_to_idx = {cls_name: idx for idx, cls_name in enumerate(self.classes)}\n",
        "        print(\"Found classes:\", self.classes)\n",
        "\n",
        "        self.image_paths = []\n",
        "        self.labels = []\n",
        "\n",
        "        for cls in self.classes:\n",
        "            cls_images_dir = os.path.join(root_dir, cls, \"images\")\n",
        "            if os.path.isdir(cls_images_dir):\n",
        "                files = os.listdir(cls_images_dir)\n",
        "                print(f\"Found {len(files)} files in {cls_images_dir}\")\n",
        "                for file in files:\n",
        "                    if file.lower().endswith(('.png', '.jpg', '.jpeg')):\n",
        "                        full_path = os.path.join(cls_images_dir, file)\n",
        "                        self.image_paths.append(full_path)\n",
        "                        self.labels.append(self.class_to_idx[cls])\n",
        "            else:\n",
        "                print(f\"Warning: Expected directory '{cls_images_dir}' not found.\")\n",
        "\n",
        "    def __len__(self):\n",
        "        return len(self.image_paths)\n",
        "\n",
        "    def __getitem__(self, idx):\n",
        "        image_path = self.image_paths[idx]\n",
        "        image = Image.open(image_path)\n",
        "        if image.mode != 'RGB':\n",
        "            image = image.convert('RGB')\n",
        "        if self.transform:\n",
        "            image = self.transform(image)\n",
        "        label = self.labels[idx]\n",
        "        return image, label\n",
        "\n",
        "dataset = CustomDataset(DATA_DIR, transform=transforms_train)\n",
        "print(\"Total image count:\", len(dataset))\n",
        "\n",
        "# Padaliname duomenų rinkinį į mokymo (80%) ir testavimo (20%) aibes\n",
        "train_size = int(0.8 * len(dataset))\n",
        "test_size = len(dataset) - train_size\n",
        "dataset_train, dataset_test = random_split(dataset, [train_size, test_size])\n",
        "print(\"Train size: \", train_size);\n",
        "print(\"Test size: \", test_size);\n",
        "\n",
        "# Ta testavimo aibė naudosime kitą transformaciją (be duomenų augmentacijos)\n",
        "dataset_test.dataset.transform = transforms_test\n",
        "\n",
        "# Sukuriame DataLoader'us\n",
        "batch_size = 16\n",
        "loader_train = DataLoader(dataset_train, batch_size=batch_size, shuffle=True, num_workers=2)\n",
        "loader_test = DataLoader(dataset_test, batch_size=batch_size, shuffle=False, num_workers=2)"
      ],
      "metadata": {
        "colab": {
          "base_uri": "https://localhost:8080/"
        },
        "id": "bTingvrgV_kB",
        "outputId": "45841814-068f-474a-b673-96f35b5b2308"
      },
      "execution_count": 34,
      "outputs": [
        {
          "output_type": "stream",
          "name": "stdout",
          "text": [
            "Found classes: ['sandal', 'strawberry', 'traffic light']\n",
            "Found 301 files in /content/drive/MyDrive/colab_content/OpenImages/sandal/images\n",
            "Found 380 files in /content/drive/MyDrive/colab_content/OpenImages/strawberry/images\n",
            "Found 380 files in /content/drive/MyDrive/colab_content/OpenImages/traffic light/images\n",
            "Total image count: 1061\n",
            "Train size:  848\n",
            "Test size:  213\n"
          ]
        }
      ]
    },
    {
      "cell_type": "markdown",
      "source": [
        "Modelio sukūrimas"
      ],
      "metadata": {
        "id": "1NuOmCoZWEnt"
      }
    },
    {
      "cell_type": "code",
      "source": [
        "class CustomModel(nn.Module):\n",
        "    def __init__(self, in_channels, num_classes):\n",
        "        super(CustomModel, self).__init__()\n",
        "        # Pirmasis blokas\n",
        "        self.conv1 = nn.Conv2d(in_channels, 64, kernel_size=3, padding=1)\n",
        "        self.conv2 = nn.Conv2d(64, 64, kernel_size=3, padding=1)\n",
        "        self.pool1 = nn.MaxPool2d(kernel_size=2, stride=2)\n",
        "        # Antrasis blokas\n",
        "        self.conv3 = nn.Conv2d(64, 128, kernel_size=3, padding=1)\n",
        "        self.pool2 = nn.MaxPool2d(kernel_size=2, stride=2)\n",
        "        # Pilnai sujungti sluoksniai\n",
        "        # Skaičiuojame flatten dydį: pradinė nuotraukos dydis 128x128, po dviejų 2x2 pool sluoksnių -> 32x32\n",
        "        self.fc1 = nn.Linear(128 * 32 * 32, 516)\n",
        "        self.fc2 = nn.Linear(516, 224)\n",
        "        self.fc3 = nn.Linear(224, num_classes)\n",
        "        self.relu = nn.ReLU()\n",
        "\n",
        "    def forward(self, x):\n",
        "        x = self.relu(self.conv1(x))\n",
        "        x = self.relu(self.conv2(x))\n",
        "        x = self.pool1(x)\n",
        "        x = self.relu(self.conv3(x))\n",
        "        x = self.pool2(x)\n",
        "        x = x.view(x.size(0), -1)\n",
        "        x = self.relu(self.fc1(x))\n",
        "        x = self.relu(self.fc2(x))\n",
        "        x = self.fc3(x)\n",
        "        return x\n",
        "\n",
        "num_classes = len(dataset.classes)\n",
        "model = CustomModel(in_channels=3, num_classes=num_classes).to(device)\n",
        "print(\"Parameter count:\", sum(p.numel() for p in model.parameters() if p.requires_grad))"
      ],
      "metadata": {
        "colab": {
          "base_uri": "https://localhost:8080/"
        },
        "id": "qZ_8eLUsWGiK",
        "outputId": "e4c77776-56b7-4a4a-eeea-bb1a817a9c37"
      },
      "execution_count": 35,
      "outputs": [
        {
          "output_type": "stream",
          "name": "stdout",
          "text": [
            "Parameter count: 67862727\n"
          ]
        }
      ]
    },
    {
      "cell_type": "markdown",
      "source": [
        "Treniravimo ciklas"
      ],
      "metadata": {
        "id": "MdcDTr4TWH-2"
      }
    },
    {
      "cell_type": "code",
      "source": [
        "def train_one_epoch(model, dataloader, criterion, optimizer):\n",
        "    model.train()\n",
        "    running_loss = 0.0\n",
        "    for images, labels in dataloader:\n",
        "        images, labels = images.to(device), labels.to(device)\n",
        "        optimizer.zero_grad()\n",
        "        outputs = model(images)\n",
        "        loss = criterion(outputs, labels)\n",
        "        loss.backward()\n",
        "        optimizer.step()\n",
        "        running_loss += loss.item() * images.size(0)\n",
        "    epoch_loss = running_loss / len(dataloader.dataset)\n",
        "    return epoch_loss\n",
        "\n",
        "def evaluate(model, dataloader):\n",
        "    model.eval()\n",
        "    all_preds = []\n",
        "    all_labels = []\n",
        "    with torch.no_grad():\n",
        "        for images, labels in dataloader:\n",
        "            images = images.to(device)\n",
        "            outputs = model(images)\n",
        "            preds = torch.argmax(outputs, dim=1).cpu().numpy()\n",
        "            all_preds.extend(preds)\n",
        "            all_labels.extend(labels.numpy())\n",
        "    return np.array(all_preds), np.array(all_labels)\n",
        "\n",
        "num_epochs = 30\n",
        "criterion = nn.CrossEntropyLoss()\n",
        "optimizer = optim.Adam(model.parameters(), lr=1e-3)\n",
        "\n",
        "train_losses = []\n",
        "for epoch in range(num_epochs):\n",
        "    loss = train_one_epoch(model, loader_train, criterion, optimizer)\n",
        "    train_losses.append(loss)\n",
        "    preds, labels = evaluate(model, loader_test)\n",
        "    acc = accuracy_score(labels, preds)\n",
        "    print(f\"Epoch {epoch+1}/{num_epochs} - Loss: {loss:.4f} - Test Accuracy: {acc:.4f}\")"
      ],
      "metadata": {
        "colab": {
          "base_uri": "https://localhost:8080/"
        },
        "id": "aVRx1GMeWJeQ",
        "outputId": "3444cbb9-1d1a-4dc8-cc2f-b3c1159062fa"
      },
      "execution_count": 36,
      "outputs": [
        {
          "output_type": "stream",
          "name": "stdout",
          "text": [
            "Epoch 1/30 - Loss: 0.8890 - Test Accuracy: 0.7230\n",
            "Epoch 2/30 - Loss: 0.6021 - Test Accuracy: 0.8263\n",
            "Epoch 3/30 - Loss: 0.5220 - Test Accuracy: 0.7512\n",
            "Epoch 4/30 - Loss: 0.4013 - Test Accuracy: 0.7934\n",
            "Epoch 5/30 - Loss: 0.2939 - Test Accuracy: 0.7793\n",
            "Epoch 6/30 - Loss: 0.2244 - Test Accuracy: 0.7371\n",
            "Epoch 7/30 - Loss: 0.1112 - Test Accuracy: 0.7840\n",
            "Epoch 8/30 - Loss: 0.2194 - Test Accuracy: 0.7512\n",
            "Epoch 9/30 - Loss: 0.2329 - Test Accuracy: 0.7700\n",
            "Epoch 10/30 - Loss: 0.0404 - Test Accuracy: 0.7746\n",
            "Epoch 11/30 - Loss: 0.0049 - Test Accuracy: 0.7606\n",
            "Epoch 12/30 - Loss: 0.0033 - Test Accuracy: 0.7653\n",
            "Epoch 13/30 - Loss: 0.0006 - Test Accuracy: 0.7793\n",
            "Epoch 14/30 - Loss: 0.0001 - Test Accuracy: 0.7746\n",
            "Epoch 15/30 - Loss: 0.0001 - Test Accuracy: 0.7746\n",
            "Epoch 16/30 - Loss: 0.0000 - Test Accuracy: 0.7746\n",
            "Epoch 17/30 - Loss: 0.0000 - Test Accuracy: 0.7746\n",
            "Epoch 18/30 - Loss: 0.0000 - Test Accuracy: 0.7746\n",
            "Epoch 19/30 - Loss: 0.0000 - Test Accuracy: 0.7746\n",
            "Epoch 20/30 - Loss: 0.0000 - Test Accuracy: 0.7746\n",
            "Epoch 21/30 - Loss: 0.0000 - Test Accuracy: 0.7746\n",
            "Epoch 22/30 - Loss: 0.0000 - Test Accuracy: 0.7746\n",
            "Epoch 23/30 - Loss: 0.0000 - Test Accuracy: 0.7746\n",
            "Epoch 24/30 - Loss: 0.0000 - Test Accuracy: 0.7746\n",
            "Epoch 25/30 - Loss: 0.0000 - Test Accuracy: 0.7746\n",
            "Epoch 26/30 - Loss: 0.0000 - Test Accuracy: 0.7700\n",
            "Epoch 27/30 - Loss: 0.0000 - Test Accuracy: 0.7700\n",
            "Epoch 28/30 - Loss: 0.0000 - Test Accuracy: 0.7746\n",
            "Epoch 29/30 - Loss: 0.0000 - Test Accuracy: 0.7700\n",
            "Epoch 30/30 - Loss: 0.0000 - Test Accuracy: 0.7700\n"
          ]
        }
      ]
    },
    {
      "cell_type": "markdown",
      "source": [
        "Modelio vertinimas ir metrikų skaičiavimas"
      ],
      "metadata": {
        "id": "5oic35ohWK5e"
      }
    },
    {
      "cell_type": "code",
      "source": [
        "preds, labels = evaluate(model, loader_test)\n",
        "cm = confusion_matrix(labels, preds)\n",
        "acc = accuracy_score(labels, preds)\n",
        "prec = precision_score(labels, preds, average='weighted', zero_division=0)\n",
        "rec = recall_score(labels, preds, average='weighted', zero_division=0)\n",
        "f1 = f1_score(labels, preds, average='weighted', zero_division=0)\n",
        "\n",
        "print(\"\\nKlasifikacijos matrica:\")\n",
        "print(cm)\n",
        "print(\"Accuracy:\", acc)\n",
        "print(\"Precision:\", prec)\n",
        "print(\"Recall:\", rec)\n",
        "print(\"F1:\", f1)"
      ],
      "metadata": {
        "colab": {
          "base_uri": "https://localhost:8080/"
        },
        "id": "Qw2uQ1U5WMPC",
        "outputId": "323e2c89-64f9-4077-a88e-d2ecfce73079"
      },
      "execution_count": 37,
      "outputs": [
        {
          "output_type": "stream",
          "name": "stdout",
          "text": [
            "\n",
            "Klasifikacijos matrica:\n",
            "[[29 12 17]\n",
            " [12 62  2]\n",
            " [ 4  2 73]]\n",
            "Tikslumas: 0.7699530516431925\n",
            "Precizija: 0.7608570910163072\n",
            "Atkūrimas: 0.7699530516431925\n",
            "F1: 0.7610820965841225\n"
          ]
        }
      ]
    },
    {
      "cell_type": "markdown",
      "source": [
        "Treniruotės istorijos vizualizacija"
      ],
      "metadata": {
        "id": "y87nef91WOSV"
      }
    },
    {
      "cell_type": "code",
      "source": [
        "plt.figure(figsize=(8, 5))\n",
        "plt.plot(train_losses, label='Training loss')\n",
        "plt.xlabel('Epoch')\n",
        "plt.ylabel('Average loss')\n",
        "plt.title('Training loss change')\n",
        "plt.legend()\n",
        "plt.show()"
      ],
      "metadata": {
        "colab": {
          "base_uri": "https://localhost:8080/",
          "height": 454
        },
        "id": "hgTlearaWPjo",
        "outputId": "881282d4-9f0e-4cee-a4f6-77b4848dbff4"
      },
      "execution_count": 38,
      "outputs": [
        {
          "output_type": "display_data",
          "data": {
            "text/plain": [
              "<Figure size 800x500 with 1 Axes>"
            ],
            "image/png": "[encoded data removed]"
          },
          "metadata": {}
        }
      ]
    }
  ]
}