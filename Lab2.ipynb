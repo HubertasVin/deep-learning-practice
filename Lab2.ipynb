{
  "nbformat": 4,
  "nbformat_minor": 0,
  "metadata": {
    "colab": {
      "provenance": [],
      "gpuType": "T4",
      "authorship_tag": "ABX9TyPPlOkxismtVYVsmZ6aiPTQ",
      "include_colab_link": true
    },
    "kernelspec": {
      "name": "python3",
      "display_name": "Python 3"
    },
    "language_info": {
      "name": "python"
    },
    "accelerator": "GPU"
  },
  "cells": [
    {
      "cell_type": "markdown",
      "metadata": {
        "id": "view-in-github",
        "colab_type": "text"
      },
      "source": [
        "<a href=\"https://colab.research.google.com/github/HubertasVin/deep-learning-practice/blob/main/Lab2.ipynb\" target=\"_parent\"><img src=\"https://colab.research.google.com/assets/colab-badge.svg\" alt=\"Open In Colab\"/></a>"
      ]
    },
    {
      "cell_type": "markdown",
      "source": [
        "Importuojamos reikalingos bibliotekos"
      ],
      "metadata": {
        "id": "iRWxyW2qV9II"
      }
    },
    {
      "cell_type": "code",
      "execution_count": 14,
      "metadata": {
        "id": "SavZT7mEJteq",
        "outputId": "d0eb85e0-47a8-47f0-ba73-d13234603609",
        "colab": {
          "base_uri": "https://localhost:8080/"
        }
      },
      "outputs": [
        {
          "output_type": "stream",
          "name": "stdout",
          "text": [
            "Naudojamas įrenginys: cuda:0\n",
            "Drive already mounted at /content/drive; to attempt to forcibly remount, call drive.mount(\"/content/drive\", force_remount=True).\n"
          ]
        }
      ],
      "source": [
        "import os\n",
        "import numpy as np\n",
        "import torch\n",
        "import torch.nn as nn\n",
        "import torch.optim as optim\n",
        "from torch.utils.data import Dataset, DataLoader, random_split\n",
        "from torchvision import transforms\n",
        "from PIL import Image\n",
        "from sklearn.metrics import confusion_matrix, accuracy_score, precision_score, recall_score, f1_score\n",
        "import matplotlib.pyplot as plt\n",
        "from google.colab import drive\n",
        "\n",
        "device = torch.device('cuda:0' if torch.cuda.is_available() else 'cpu')\n",
        "print(\"Naudojamas įrenginys:\", device)\n",
        "\n",
        "drive.mount('/content/drive')\n",
        "DATA_DIR = '/content/drive/MyDrive/colab_content'"
      ]
    },
    {
      "cell_type": "markdown",
      "source": [
        "Duomenų įkėlimas ir paruošimas"
      ],
      "metadata": {
        "id": "ojsetMNbV_SW"
      }
    },
    {
      "cell_type": "code",
      "source": [
        "# Naudojame image_dataset_from_directory funkciją, kuri automatiškai padalina duomenis\n",
        "# į mokymo (training) ir validacijos (validation) aibes pagal nurodytą validacijos split\n",
        "transforms_train = transforms.Compose([\n",
        "    transforms.RandomRotation(15),\n",
        "    transforms.Resize((128, 128)),\n",
        "    transforms.RandomHorizontalFlip(),\n",
        "    transforms.ToTensor(),\n",
        "    transforms.Normalize(mean=(0.5, 0.5, 0.5), std=(0.5, 0.5, 0.5))\n",
        "])\n",
        "\n",
        "transforms_test = transforms.Compose([\n",
        "    transforms.Resize((128, 128)),\n",
        "    transforms.ToTensor(),\n",
        "    transforms.Normalize(mean=(0.5, 0.5, 0.5), std=(0.5, 0.5, 0.5))\n",
        "])\n",
        "\n",
        "class MyDataset(Dataset):\n",
        "    def __init__(self, root_dir, transform=None):\n",
        "        self.root_dir = root_dir\n",
        "        self.transform = transform\n",
        "\n",
        "        # Sukuriame sąrašą su visų failų kelių ir jų atitinkamų klasių indeksų\n",
        "        self.image_paths = []\n",
        "        self.labels = []\n",
        "        self.classes = sorted(os.listdir(root_dir))\n",
        "        self.class_to_idx = {cls_name: idx for idx, cls_name in enumerate(self.classes)}\n",
        "\n",
        "        for cls in self.classes:\n",
        "            cls_dir = os.path.join(root_dir, cls)\n",
        "            if os.path.isdir(cls_dir):\n",
        "                for file in os.listdir(cls_dir):\n",
        "                    if file.lower().endswith(('.png', '.jpg', '.jpeg')):\n",
        "                        self.image_paths.append(os.path.join(cls_dir, file))\n",
        "                        self.labels.append(self.class_to_idx[cls])\n",
        "\n",
        "    def __len__(self):\n",
        "        return len(self.image_paths)\n",
        "\n",
        "    def __getitem__(self, idx):\n",
        "        image_path = self.image_paths[idx]\n",
        "        image = Image.open(image_path)\n",
        "        # Konvertuojame į RGB, jei reikia\n",
        "        if image.mode != 'RGB':\n",
        "            image = image.convert('RGB')\n",
        "        if self.transform:\n",
        "            image = self.transform(image)\n",
        "        label = self.labels[idx]\n",
        "        return image, label\n",
        "\n",
        "# Sukuriame pilną duomenų rinkinį\n",
        "dataset = MyDataset(DATA_DIR, transform=transforms_train)\n",
        "print(\"Viso nuotraukų:\", len(dataset))\n",
        "\n",
        "# Padaliname duomenų rinkinį į mokymo (80%) ir testavimo (20%) aibes\n",
        "train_size = int(0.8 * len(dataset))\n",
        "test_size = len(dataset) - train_size\n",
        "dataset_train, dataset_test = random_split(dataset, [train_size, test_size])\n",
        "\n",
        "# Ta testavimo aibė naudosime kitą transformaciją (be duomenų augmentacijos)\n",
        "dataset_test.dataset.transform = transforms_test\n",
        "\n",
        "# Sukuriame DataLoader'us\n",
        "batch_size = 16\n",
        "loader_train = DataLoader(dataset_train, batch_size=batch_size, shuffle=True, num_workers=2)\n",
        "loader_test = DataLoader(dataset_test, batch_size=batch_size, shuffle=False, num_workers=2)"
      ],
      "metadata": {
        "id": "bTingvrgV_kB",
        "outputId": "78c51eff-6609-43ef-da5d-d3ba1fd2b9ad",
        "colab": {
          "base_uri": "https://localhost:8080/"
        }
      },
      "execution_count": 15,
      "outputs": [
        {
          "output_type": "stream",
          "name": "stdout",
          "text": [
            "Viso nuotraukų: 3\n"
          ]
        }
      ]
    },
    {
      "cell_type": "markdown",
      "source": [
        "Modelio sukūrimas"
      ],
      "metadata": {
        "id": "1NuOmCoZWEnt"
      }
    },
    {
      "cell_type": "code",
      "source": [
        "class Model(nn.Module):\n",
        "    def __init__(self, in_channels, num_classes):\n",
        "        super(Model, self).__init__()\n",
        "        # Pirmasis blokas\n",
        "        self.conv1 = nn.Conv2d(in_channels, 64, kernel_size=3, padding=1)\n",
        "        self.conv2 = nn.Conv2d(64, 64, kernel_size=3, padding=1)\n",
        "        self.pool1 = nn.MaxPool2d(kernel_size=2, stride=2)\n",
        "        # Antrasis blokas\n",
        "        self.conv3 = nn.Conv2d(64, 128, kernel_size=3, padding=1)\n",
        "        self.pool2 = nn.MaxPool2d(kernel_size=2, stride=2)\n",
        "        # Pilnai sujungti sluoksniai\n",
        "        # Skaičiuojame flatten dydį: pradinė nuotraukos dydis 128x128, po dviejų 2x2 pool sluoksnių -> 32x32\n",
        "        self.fc1 = nn.Linear(128 * 32 * 32, 516)\n",
        "        self.fc2 = nn.Linear(516, 224)\n",
        "        self.fc3 = nn.Linear(224, num_classes)\n",
        "        self.relu = nn.ReLU()\n",
        "\n",
        "    def forward(self, x):\n",
        "        x = self.relu(self.conv1(x))\n",
        "        x = self.relu(self.conv2(x))\n",
        "        x = self.pool1(x)\n",
        "        x = self.relu(self.conv3(x))\n",
        "        x = self.pool2(x)\n",
        "        x = x.view(x.size(0), -1)\n",
        "        x = self.relu(self.fc1(x))\n",
        "        x = self.relu(self.fc2(x))\n",
        "        x = self.fc3(x)\n",
        "        return x\n",
        "\n",
        "num_classes = len(dataset.classes)\n",
        "model = Model(in_channels=3, num_classes=num_classes).to(device)\n",
        "print(\"Modelio parametru skaičius:\", sum(p.numel() for p in model.parameters() if p.requires_grad))"
      ],
      "metadata": {
        "id": "qZ_8eLUsWGiK",
        "outputId": "001b90f4-1f38-44a0-c9bb-ba155e275520",
        "colab": {
          "base_uri": "https://localhost:8080/"
        }
      },
      "execution_count": 16,
      "outputs": [
        {
          "output_type": "stream",
          "name": "stdout",
          "text": [
            "Modelio parametru skaičius: 67862502\n"
          ]
        }
      ]
    },
    {
      "cell_type": "markdown",
      "source": [
        "Treniravimo ciklas"
      ],
      "metadata": {
        "id": "MdcDTr4TWH-2"
      }
    },
    {
      "cell_type": "code",
      "source": [
        "def train_one_epoch(model, dataloader, criterion, optimizer):\n",
        "    model.train()\n",
        "    running_loss = 0.0\n",
        "    for images, labels in dataloader:\n",
        "        images, labels = images.to(device), labels.to(device)\n",
        "        optimizer.zero_grad()\n",
        "        outputs = model(images)\n",
        "        loss = criterion(outputs, labels)\n",
        "        loss.backward()\n",
        "        optimizer.step()\n",
        "        running_loss += loss.item() * images.size(0)\n",
        "    epoch_loss = running_loss / len(dataloader.dataset)\n",
        "    return epoch_loss\n",
        "\n",
        "def evaluate(model, dataloader):\n",
        "    model.eval()\n",
        "    all_preds = []\n",
        "    all_labels = []\n",
        "    with torch.no_grad():\n",
        "        for images, labels in dataloader:\n",
        "            images = images.to(device)\n",
        "            outputs = model(images)\n",
        "            preds = torch.argmax(outputs, dim=1).cpu().numpy()\n",
        "            all_preds.extend(preds)\n",
        "            all_labels.extend(labels.numpy())\n",
        "    return np.array(all_preds), np.array(all_labels)\n",
        "\n",
        "num_epochs = 10\n",
        "criterion = nn.CrossEntropyLoss()\n",
        "optimizer = optim.Adam(model.parameters(), lr=1e-3)\n",
        "\n",
        "train_losses = []\n",
        "for epoch in range(num_epochs):\n",
        "    loss = train_one_epoch(model, loader_train, criterion, optimizer)\n",
        "    train_losses.append(loss)\n",
        "    preds, labels = evaluate(model, loader_test)\n",
        "    acc = accuracy_score(labels, preds)\n",
        "    print(f\"Epoch {epoch+1}/{num_epochs} - Loss: {loss:.4f} - Test Accuracy: {acc:.4f}\")"
      ],
      "metadata": {
        "id": "aVRx1GMeWJeQ",
        "outputId": "d5a7c647-ef76-403f-f676-8221be532edb",
        "colab": {
          "base_uri": "https://localhost:8080/"
        }
      },
      "execution_count": 17,
      "outputs": [
        {
          "output_type": "stream",
          "name": "stdout",
          "text": [
            "Epoch 1/10 - Loss: 0.6683 - Test Accuracy: 1.0000\n",
            "Epoch 2/10 - Loss: 0.0002 - Test Accuracy: 1.0000\n",
            "Epoch 3/10 - Loss: 0.0000 - Test Accuracy: 1.0000\n",
            "Epoch 4/10 - Loss: 0.0000 - Test Accuracy: 1.0000\n",
            "Epoch 5/10 - Loss: 0.0000 - Test Accuracy: 1.0000\n",
            "Epoch 6/10 - Loss: 0.0000 - Test Accuracy: 1.0000\n",
            "Epoch 7/10 - Loss: 0.0000 - Test Accuracy: 1.0000\n",
            "Epoch 8/10 - Loss: 0.0000 - Test Accuracy: 1.0000\n",
            "Epoch 9/10 - Loss: 0.0000 - Test Accuracy: 1.0000\n",
            "Epoch 10/10 - Loss: 0.0000 - Test Accuracy: 1.0000\n"
          ]
        }
      ]
    },
    {
      "cell_type": "markdown",
      "source": [
        "Modelio vertinimas ir metrikų skaičiavimas"
      ],
      "metadata": {
        "id": "5oic35ohWK5e"
      }
    },
    {
      "cell_type": "code",
      "source": [
        "preds, labels = evaluate(model, loader_test)\n",
        "cm = confusion_matrix(labels, preds)\n",
        "acc = accuracy_score(labels, preds)\n",
        "prec = precision_score(labels, preds, average='weighted', zero_division=0)\n",
        "rec = recall_score(labels, preds, average='weighted', zero_division=0)\n",
        "f1 = f1_score(labels, preds, average='weighted', zero_division=0)\n",
        "\n",
        "print(\"\\nKlasifikacijos matrica:\")\n",
        "print(cm)\n",
        "print(\"Tikslumas:\", acc)\n",
        "print(\"Precizija:\", prec)\n",
        "print(\"Atkūrimas:\", rec)\n",
        "print(\"F1:\", f1)"
      ],
      "metadata": {
        "id": "Qw2uQ1U5WMPC",
        "outputId": "37130602-d9df-487d-f537-f38d3fb52c66",
        "colab": {
          "base_uri": "https://localhost:8080/"
        }
      },
      "execution_count": 18,
      "outputs": [
        {
          "output_type": "stream",
          "name": "stdout",
          "text": [
            "\n",
            "Klasifikacijos matrica:\n",
            "[[1]]\n",
            "Tikslumas: 1.0\n",
            "Precizija: 1.0\n",
            "Atkūrimas: 1.0\n",
            "F1: 1.0\n"
          ]
        },
        {
          "output_type": "stream",
          "name": "stderr",
          "text": [
            "/usr/local/lib/python3.11/dist-packages/sklearn/metrics/_classification.py:407: UserWarning: A single label was found in 'y_true' and 'y_pred'. For the confusion matrix to have the correct shape, use the 'labels' parameter to pass all known labels.\n",
            "  warnings.warn(\n"
          ]
        }
      ]
    },
    {
      "cell_type": "markdown",
      "source": [
        "Treniruotės istorijos vizualizacija"
      ],
      "metadata": {
        "id": "y87nef91WOSV"
      }
    },
    {
      "cell_type": "code",
      "source": [
        "plt.figure(figsize=(8, 5))\n",
        "plt.plot(train_losses, label='Treniruotės nuostoliai')\n",
        "plt.xlabel('Epoch')\n",
        "plt.ylabel('Vidutinis nuostolis')\n",
        "plt.title('Treniruotės nuostolių pokytis')\n",
        "plt.legend()\n",
        "plt.show()"
      ],
      "metadata": {
        "id": "hgTlearaWPjo",
        "outputId": "04c5cd20-aabd-4846-d537-143ea8de0516",
        "colab": {
          "base_uri": "https://localhost:8080/",
          "height": 454
        }
      },
      "execution_count": 19,
      "outputs": [
        {
          "output_type": "display_data",
          "data": {
            "text/plain": [
              "<Figure size 800x500 with 1 Axes>"
            ],
            "image/png": "[encoded data removed]"
          },
          "metadata": {}
        }
      ]
    }
  ]
}