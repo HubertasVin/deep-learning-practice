{
  "nbformat": 4,
  "nbformat_minor": 0,
  "metadata": {
    "colab": {
      "provenance": [],
      "gpuType": "T4",
      "authorship_tag": "ABX9TyM034OKdBL6NpOHdMBntteT",
      "include_colab_link": true
    },
    "kernelspec": {
      "name": "python3",
      "display_name": "Python 3"
    },
    "language_info": {
      "name": "python"
    },
    "accelerator": "GPU"
  },
  "cells": [
    {
      "cell_type": "markdown",
      "metadata": {
        "id": "view-in-github",
        "colab_type": "text"
      },
      "source": [
        "<a href=\"https://colab.research.google.com/github/HubertasVin/deep-learning-practice/blob/main/Lab2.ipynb\" target=\"_parent\"><img src=\"https://colab.research.google.com/assets/colab-badge.svg\" alt=\"Open In Colab\"/></a>"
      ]
    },
    {
      "cell_type": "markdown",
      "source": [
        "Importuojamos reikalingos bibliotekos"
      ],
      "metadata": {
        "id": "iRWxyW2qV9II"
      }
    },
    {
      "cell_type": "code",
      "execution_count": 90,
      "metadata": {
        "id": "SavZT7mEJteq",
        "colab": {
          "base_uri": "https://localhost:8080/"
        },
        "outputId": "777c506c-2267-457d-b0d1-c6c6d833924f"
      },
      "outputs": [
        {
          "output_type": "stream",
          "name": "stdout",
          "text": [
            "Requirement already satisfied: pyngrok in /usr/local/lib/python3.11/dist-packages (7.2.3)\n",
            "Requirement already satisfied: PyYAML>=5.1 in /usr/local/lib/python3.11/dist-packages (from pyngrok) (6.0.2)\n",
            "Drive already mounted at /content/drive; to attempt to forcibly remount, call drive.mount(\"/content/drive\", force_remount=True).\n",
            "Using device: cuda:0\n"
          ]
        }
      ],
      "source": [
        "!pip install pyngrok\n",
        "\n",
        "import os\n",
        "import numpy as np\n",
        "import torch\n",
        "import torch.nn as nn\n",
        "import torch.optim as optim\n",
        "from torch.utils.data import Dataset, DataLoader, random_split\n",
        "from torchvision import transforms\n",
        "from PIL import Image\n",
        "from sklearn.metrics import confusion_matrix, accuracy_score, precision_score, recall_score, f1_score\n",
        "import matplotlib.pyplot as plt\n",
        "from google.colab import drive\n",
        "from flask import Flask, request, jsonify\n",
        "from IPython import get_ipython\n",
        "from pyngrok import ngrok\n",
        "from tabulate import tabulate\n",
        "\n",
        "from google.colab import drive\n",
        "drive.mount('/content/drive')\n",
        "\n",
        "device = torch.device('cuda:0' if torch.cuda.is_available() else 'cpu')\n",
        "print(\"Using device:\", device)\n",
        "\n",
        "DATA_DIR = '/content/drive/MyDrive/colab_content'\n",
        "TRAIN_MODE = True"
      ]
    },
    {
      "cell_type": "markdown",
      "source": [
        "Duomenų įkėlimas ir paruošimas"
      ],
      "metadata": {
        "id": "ojsetMNbV_SW"
      }
    },
    {
      "cell_type": "code",
      "source": [
        "transforms_train = transforms.Compose([\n",
        "    transforms.RandomRotation(15),\n",
        "    transforms.Resize((128, 128)),\n",
        "    transforms.RandomHorizontalFlip(),\n",
        "    transforms.ToTensor(),\n",
        "    transforms.Normalize(mean=(0.5, 0.5, 0.5), std=(0.5, 0.5, 0.5))\n",
        "])\n",
        "\n",
        "transforms_test = transforms.Compose([\n",
        "    transforms.Resize((128, 128)),\n",
        "    transforms.ToTensor(),\n",
        "    transforms.Normalize(mean=(0.5, 0.5, 0.5), std=(0.5, 0.5, 0.5))\n",
        "])\n",
        "\n",
        "class CustomDataset(Dataset):\n",
        "    def __init__(self, root_dir, transform=None):\n",
        "        self.root_dir = root_dir\n",
        "        self.transform = transform\n",
        "\n",
        "        self.classes = sorted([d for d in os.listdir(root_dir) if os.path.isdir(os.path.join(root_dir, d))])\n",
        "        self.class_to_idx = {cls_name: idx for idx, cls_name in enumerate(self.classes)}\n",
        "        print(\"Found classes:\", self.classes)\n",
        "\n",
        "        self.image_paths = []\n",
        "        self.labels = []\n",
        "\n",
        "        for cls in self.classes:\n",
        "            cls_images_dir = os.path.join(root_dir, cls, \"images\")\n",
        "            if os.path.isdir(cls_images_dir):\n",
        "                files = os.listdir(cls_images_dir)\n",
        "                print(f\"Found {len(files)} files in {cls_images_dir}\")\n",
        "                for file in files:\n",
        "                    if file.lower().endswith(('.png', '.jpg', '.jpeg')):\n",
        "                        full_path = os.path.join(cls_images_dir, file)\n",
        "                        self.image_paths.append(full_path)\n",
        "                        self.labels.append(self.class_to_idx[cls])\n",
        "            else:\n",
        "                print(f\"Warning: Expected directory '{cls_images_dir}' not found.\")\n",
        "\n",
        "    def __len__(self):\n",
        "        return len(self.image_paths)\n",
        "\n",
        "    def __getitem__(self, idx):\n",
        "        image_path = self.image_paths[idx]\n",
        "        image = Image.open(image_path)\n",
        "        if image.mode != 'RGB':\n",
        "            image = image.convert('RGB')\n",
        "        if self.transform:\n",
        "            image = self.transform(image)\n",
        "        label = self.labels[idx]\n",
        "        return image, label\n",
        "\n",
        "dataset = CustomDataset(DATA_DIR + \"/OpenImages\", transform=transforms_train)\n",
        "print(\"Total image count:\", len(dataset))\n",
        "\n",
        "# Padaliname duomenų rinkinį į mokymo (80%) ir testavimo (20%) aibes\n",
        "train_size = int(0.8 * len(dataset))\n",
        "test_size = len(dataset) - train_size\n",
        "dataset_train, dataset_test = random_split(dataset, [train_size, test_size])\n",
        "print(\"Train size: \", train_size);\n",
        "print(\"Test size: \", test_size);\n",
        "\n",
        "dataset_test.dataset.transform = transforms_test\n",
        "\n",
        "batch_size = 16\n",
        "loader_train = DataLoader(dataset_train, batch_size=batch_size, shuffle=True, num_workers=2)\n",
        "loader_test = DataLoader(dataset_test, batch_size=batch_size, shuffle=False, num_workers=2)"
      ],
      "metadata": {
        "colab": {
          "base_uri": "https://localhost:8080/"
        },
        "id": "bTingvrgV_kB",
        "outputId": "0078c96c-f1e0-485e-eb98-9a70a6d02078"
      },
      "execution_count": 91,
      "outputs": [
        {
          "output_type": "stream",
          "name": "stdout",
          "text": [
            "Found classes: ['sandal', 'strawberry', 'traffic light']\n",
            "Found 301 files in /content/drive/MyDrive/colab_content/OpenImages/sandal/images\n",
            "Found 380 files in /content/drive/MyDrive/colab_content/OpenImages/strawberry/images\n",
            "Found 380 files in /content/drive/MyDrive/colab_content/OpenImages/traffic light/images\n",
            "Total image count: 1061\n",
            "Train size:  848\n",
            "Test size:  213\n"
          ]
        }
      ]
    },
    {
      "cell_type": "markdown",
      "source": [
        "Modelio sukūrimas"
      ],
      "metadata": {
        "id": "1NuOmCoZWEnt"
      }
    },
    {
      "cell_type": "code",
      "source": [
        "class CustomModel(nn.Module):\n",
        "    def __init__(self, in_channels, num_classes):\n",
        "        super(CustomModel, self).__init__()\n",
        "        # Pirmasis blokas\n",
        "        self.conv1 = nn.Conv2d(in_channels, 64, kernel_size=3, padding=1)\n",
        "        self.conv2 = nn.Conv2d(64, 64, kernel_size=3, padding=1)\n",
        "        self.pool1 = nn.MaxPool2d(kernel_size=2, stride=2)\n",
        "        # Antrasis blokas\n",
        "        self.conv3 = nn.Conv2d(64, 128, kernel_size=3, padding=1)\n",
        "        self.pool2 = nn.MaxPool2d(kernel_size=2, stride=2)\n",
        "        # Pilnai sujungti sluoksniai\n",
        "        self.fc1 = nn.Linear(128 * 32 * 32, 516)\n",
        "        self.fc2 = nn.Linear(516, 224)\n",
        "        self.fc3 = nn.Linear(224, num_classes)\n",
        "        self.relu = nn.ReLU()\n",
        "\n",
        "    def forward(self, x):\n",
        "        x = self.relu(self.conv1(x))\n",
        "        x = self.relu(self.conv2(x))\n",
        "        x = self.pool1(x)\n",
        "        x = self.relu(self.conv3(x))\n",
        "        x = self.pool2(x)\n",
        "        x = x.view(x.size(0), -1)\n",
        "        x = self.relu(self.fc1(x))\n",
        "        x = self.relu(self.fc2(x))\n",
        "        x = self.fc3(x)\n",
        "        return x\n",
        "\n",
        "num_classes = len(dataset.classes)\n",
        "model = CustomModel(in_channels=3, num_classes=num_classes).to(device)\n",
        "print(\"Parameter count:\", sum(p.numel() for p in model.parameters() if p.requires_grad))"
      ],
      "metadata": {
        "colab": {
          "base_uri": "https://localhost:8080/"
        },
        "id": "qZ_8eLUsWGiK",
        "outputId": "fe027d7b-feb0-4709-ac4d-5cd8e967110e"
      },
      "execution_count": 92,
      "outputs": [
        {
          "output_type": "stream",
          "name": "stdout",
          "text": [
            "Parameter count: 67862727\n"
          ]
        }
      ]
    },
    {
      "cell_type": "markdown",
      "source": [
        "Treniravimo ciklas"
      ],
      "metadata": {
        "id": "MdcDTr4TWH-2"
      }
    },
    {
      "cell_type": "code",
      "source": [
        "def train_one_epoch(model, dataloader, criterion, optimizer):\n",
        "    model.train()\n",
        "    running_loss = 0.0\n",
        "    for images, labels in dataloader:\n",
        "        images, labels = images.to(device), labels.to(device)\n",
        "        optimizer.zero_grad()\n",
        "        outputs = model(images)\n",
        "        loss = criterion(outputs, labels)\n",
        "        loss.backward()\n",
        "        optimizer.step()\n",
        "        running_loss += loss.item() * images.size(0)\n",
        "    epoch_loss = running_loss / len(dataloader.dataset)\n",
        "    return epoch_loss\n",
        "\n",
        "def evaluate(model, dataloader):\n",
        "    model.eval()\n",
        "    all_preds = []\n",
        "    all_labels = []\n",
        "    with torch.no_grad():\n",
        "        for images, labels in dataloader:\n",
        "            images = images.to(device)\n",
        "            outputs = model(images)\n",
        "            preds = torch.argmax(outputs, dim=1).cpu().numpy()\n",
        "            all_preds.extend(preds)\n",
        "            all_labels.extend(labels.numpy())\n",
        "    return np.array(all_preds), np.array(all_labels)\n",
        "\n",
        "def train_model(num_epochs=10, lr=1e-3):\n",
        "    criterion = nn.CrossEntropyLoss()\n",
        "    optimizer = optim.Adam(model.parameters(), lr=lr)\n",
        "    train_losses = []\n",
        "    for epoch in range(num_epochs):\n",
        "        loss = train_one_epoch(model, loader_train, criterion, optimizer)\n",
        "        train_losses.append(loss)\n",
        "        preds, labels = evaluate(model, loader_test)\n",
        "        acc = accuracy_score(labels, preds)\n",
        "        print(f\"Epoch {epoch + 1} / {num_epochs} - Loss: {loss:.4f} - Test Accuracy: {acc:.4f}\")\n",
        "    # Išsaugoti modelį po treniravimo\n",
        "    torch.save(model.state_dict(), DATA_DIR + \"/custom_model.pth\")\n",
        "    return train_losses"
      ],
      "metadata": {
        "id": "aVRx1GMeWJeQ"
      },
      "execution_count": 93,
      "outputs": []
    },
    {
      "cell_type": "markdown",
      "source": [
        "Įjungti / išjungti treniravimo režimą"
      ],
      "metadata": {
        "id": "z2IWs6iHp8ei"
      }
    },
    {
      "cell_type": "code",
      "source": [
        "if TRAIN_MODE:\n",
        "    print(\"Training new model...\")\n",
        "    train_losses = train_model(num_epochs=40, lr=1e-6)\n",
        "    # Plot training loss history\n",
        "    plt.figure(figsize=(8,5))\n",
        "    plt.plot(train_losses, label='Training loss')\n",
        "    plt.xlabel('Epoch')\n",
        "    plt.ylabel('Average loss')\n",
        "    plt.title('Training loss change')\n",
        "    plt.legend()\n",
        "    plt.show()\n",
        "else:\n",
        "    print(\"Loading existing model...\")\n",
        "    model.load_state_dict(torch.load(DATA_DIR + \"/custom_model.pth\", map_location=device))\n",
        "    model.eval()"
      ],
      "metadata": {
        "id": "KnqVvIVqp8wf",
        "outputId": "6f97d11b-3d23-4c00-b86e-c54dd7845ea0",
        "colab": {
          "base_uri": "https://localhost:8080/",
          "height": 1000
        }
      },
      "execution_count": 95,
      "outputs": [
        {
          "output_type": "stream",
          "name": "stdout",
          "text": [
            "Training new model...\n",
            "Epoch 1 / 40 - Loss: 0.5030 - Test Accuracy: 0.8028\n",
            "Epoch 2 / 40 - Loss: 0.4977 - Test Accuracy: 0.8122\n",
            "Epoch 3 / 40 - Loss: 0.4951 - Test Accuracy: 0.8028\n",
            "Epoch 4 / 40 - Loss: 0.4925 - Test Accuracy: 0.8075\n",
            "Epoch 5 / 40 - Loss: 0.4894 - Test Accuracy: 0.8169\n",
            "Epoch 6 / 40 - Loss: 0.4872 - Test Accuracy: 0.8169\n",
            "Epoch 7 / 40 - Loss: 0.4844 - Test Accuracy: 0.8028\n",
            "Epoch 8 / 40 - Loss: 0.4816 - Test Accuracy: 0.8122\n",
            "Epoch 9 / 40 - Loss: 0.4789 - Test Accuracy: 0.8028\n",
            "Epoch 10 / 40 - Loss: 0.4780 - Test Accuracy: 0.8075\n",
            "Epoch 11 / 40 - Loss: 0.4758 - Test Accuracy: 0.8122\n",
            "Epoch 12 / 40 - Loss: 0.4724 - Test Accuracy: 0.8075\n",
            "Epoch 13 / 40 - Loss: 0.4701 - Test Accuracy: 0.8075\n",
            "Epoch 14 / 40 - Loss: 0.4679 - Test Accuracy: 0.8075\n",
            "Epoch 15 / 40 - Loss: 0.4658 - Test Accuracy: 0.8122\n",
            "Epoch 16 / 40 - Loss: 0.4640 - Test Accuracy: 0.8122\n",
            "Epoch 17 / 40 - Loss: 0.4616 - Test Accuracy: 0.8075\n",
            "Epoch 18 / 40 - Loss: 0.4594 - Test Accuracy: 0.8028\n",
            "Epoch 19 / 40 - Loss: 0.4589 - Test Accuracy: 0.8122\n",
            "Epoch 20 / 40 - Loss: 0.4543 - Test Accuracy: 0.8028\n",
            "Epoch 21 / 40 - Loss: 0.4519 - Test Accuracy: 0.8028\n",
            "Epoch 22 / 40 - Loss: 0.4519 - Test Accuracy: 0.8075\n",
            "Epoch 23 / 40 - Loss: 0.4482 - Test Accuracy: 0.8028\n",
            "Epoch 24 / 40 - Loss: 0.4459 - Test Accuracy: 0.8028\n",
            "Epoch 25 / 40 - Loss: 0.4448 - Test Accuracy: 0.8028\n",
            "Epoch 26 / 40 - Loss: 0.4423 - Test Accuracy: 0.8075\n",
            "Epoch 27 / 40 - Loss: 0.4401 - Test Accuracy: 0.8028\n",
            "Epoch 28 / 40 - Loss: 0.4386 - Test Accuracy: 0.8028\n",
            "Epoch 29 / 40 - Loss: 0.4359 - Test Accuracy: 0.8028\n",
            "Epoch 30 / 40 - Loss: 0.4347 - Test Accuracy: 0.8075\n",
            "Epoch 31 / 40 - Loss: 0.4323 - Test Accuracy: 0.8028\n",
            "Epoch 32 / 40 - Loss: 0.4311 - Test Accuracy: 0.8028\n",
            "Epoch 33 / 40 - Loss: 0.4282 - Test Accuracy: 0.8075\n",
            "Epoch 34 / 40 - Loss: 0.4273 - Test Accuracy: 0.8075\n",
            "Epoch 35 / 40 - Loss: 0.4243 - Test Accuracy: 0.8075\n",
            "Epoch 36 / 40 - Loss: 0.4239 - Test Accuracy: 0.7981\n",
            "Epoch 37 / 40 - Loss: 0.4215 - Test Accuracy: 0.8122\n",
            "Epoch 38 / 40 - Loss: 0.4194 - Test Accuracy: 0.8028\n",
            "Epoch 39 / 40 - Loss: 0.4176 - Test Accuracy: 0.8075\n",
            "Epoch 40 / 40 - Loss: 0.4154 - Test Accuracy: 0.8028\n"
          ]
        },
        {
          "output_type": "display_data",
          "data": {
            "text/plain": [
              "<Figure size 800x500 with 1 Axes>"
            ],
            "image/png": "[encoded data removed]"
          },
          "metadata": {}
        }
      ]
    },
    {
      "cell_type": "markdown",
      "source": [
        "API skirtas įvesti nuotraukas rankiniu būdu.\n",
        "\n",
        "Nuotraukos testavimui su API:\n",
        "- https://img.freepik.com/free-photo/yummy-strawberries-red-mellow-ripe-with-green-leafs-dark-desk_179666-391.jpg\n",
        "- https://img.freepik.com/free-photo/strawberry-isolated-white-background_1232-1974.jpg\n",
        "- https://img.freepik.com/free-photo/traffic-light-city-streets_23-2149091964.jpg\n",
        "- https://img.freepik.com/free-photo/green-traffic-light-intersection_53876-153444.jpg\n",
        "- https://img.freepik.com/premium-photo/close-up-yellow-street-traffic-light-hanging-from-pole_1048944-23361333.jpg\n",
        "- https://img.freepik.com/free-photo/summer-slipper-white-shoes-sandals_1203-6528.jpg\n",
        "- https://img.freepik.com/premium-photo/close-up-shoes-sand_1048944-30578092.jpg\n",
        "- https://img.freepik.com/free-vector/man-brown-casual-flip-flop-sandal-shoes-vector_53876-25895.jpg"
      ],
      "metadata": {
        "id": "bb177y8FqPlZ"
      }
    },
    {
      "cell_type": "code",
      "source": [
        "app = Flask(__name__)\n",
        "\n",
        "def predict_image(image_input):\n",
        "    image = transforms_test(image_input)\n",
        "    image = image.unsqueeze(0).to(device)\n",
        "    outputs = model(image)\n",
        "    pred = torch.argmax(outputs, dim=1).item()\n",
        "    idx_to_class = {idx: cls for cls, idx in dataset.class_to_idx.items()}\n",
        "    return idx_to_class.get(pred, \"Unknown\")\n",
        "\n",
        "@app.route('/predict', methods=['POST'])\n",
        "def predict():\n",
        "    if \"file\" in request.files:\n",
        "        file = request.files[\"file\"]\n",
        "        try:\n",
        "            image = Image.open(file)\n",
        "        except Exception as e:\n",
        "            return jsonify({\"error\": \"Invalid image file.\"}), 400\n",
        "    else:\n",
        "        data = request.get_json(force=True)\n",
        "        if \"url\" in data:\n",
        "            import requests\n",
        "            from io import BytesIO\n",
        "            response = requests.get(data[\"url\"])\n",
        "            image = Image.open(BytesIO(response.content))\n",
        "        elif \"file_path\" in data:\n",
        "            image = Image.open(data[\"file_path\"])\n",
        "        else:\n",
        "            return jsonify({\"error\": \"Please provide 'url', 'file_path', or upload a file in 'file'.\"}), 400\n",
        "\n",
        "    prediction = predict_image(image)\n",
        "    return jsonify({\"prediction\": prediction})\n",
        "\n",
        "@app.route('/test', methods=['GET'])\n",
        "def test_endpoint():\n",
        "    return jsonify({\"message\": \"Test endpoint working!\"}), 200\n",
        "\n",
        "if __name__ == '__main__':\n",
        "    # Authtoken'a galima rasti cia: https://dashboard.ngrok.com/get-started/your-authtoken\n",
        "    ngrok.set_auth_token(\"2v8l4mW8zOFneFzX7p47qORuEwS_4EcRU64N6iq1mUNEpXN3G\")\n",
        "\n",
        "    public_url = ngrok.connect(5000)\n",
        "    print(\"Public URL:\", public_url)\n",
        "\n",
        "    # Start the Flask app\n",
        "    app.run(host='0.0.0.0', port=5000)"
      ],
      "metadata": {
        "id": "M1PVSvtxqP39",
        "colab": {
          "base_uri": "https://localhost:8080/"
        },
        "outputId": "58b9ebd1-0220-4a5b-fb6a-45d15452b032"
      },
      "execution_count": 96,
      "outputs": [
        {
          "output_type": "stream",
          "name": "stdout",
          "text": [
            "Public URL: NgrokTunnel: \"https://59a4-34-168-75-196.ngrok-free.app\" -> \"http://localhost:5000\"\n",
            " * Serving Flask app '__main__'\n",
            " * Debug mode: off\n"
          ]
        },
        {
          "output_type": "stream",
          "name": "stderr",
          "text": [
            "INFO:werkzeug:\u001b[31m\u001b[1mWARNING: This is a development server. Do not use it in a production deployment. Use a production WSGI server instead.\u001b[0m\n",
            " * Running on all addresses (0.0.0.0)\n",
            " * Running on http://127.0.0.1:5000\n",
            " * Running on http://172.28.0.12:5000\n",
            "INFO:werkzeug:\u001b[33mPress CTRL+C to quit\u001b[0m\n"
          ]
        }
      ]
    },
    {
      "cell_type": "markdown",
      "source": [
        "Modelio vertinimas ir metrikų skaičiavimas"
      ],
      "metadata": {
        "id": "5oic35ohWK5e"
      }
    },
    {
      "cell_type": "code",
      "source": [
        "idx_to_class = {v: k for k, v in dataset.class_to_idx.items()}\n",
        "\n",
        "preds, labels = evaluate(model, loader_test)\n",
        "cm = confusion_matrix(labels, preds)\n",
        "acc = accuracy_score(labels, preds)\n",
        "prec = precision_score(labels, preds, average='weighted', zero_division=0)\n",
        "rec = recall_score(labels, preds, average='weighted', zero_division=0)\n",
        "f1 = f1_score(labels, preds, average='weighted', zero_division=0)\n",
        "\n",
        "headers = [\"\"] + [idx_to_class[i] for i in range(len(idx_to_class))]\n",
        "table = []\n",
        "for i, row in enumerate(cm):\n",
        "    table.append([idx_to_class[i]] + list(row))\n",
        "\n",
        "print(\"\\nConfusion matrix:\")\n",
        "print(tabulate(table, headers=headers, tablefmt=\"grid\"))\n",
        "print(\"Accuracy:\", acc)\n",
        "print(\"Precision:\", prec)\n",
        "print(\"Recall:\", rec)\n",
        "print(\"F1:\", f1)"
      ],
      "metadata": {
        "colab": {
          "base_uri": "https://localhost:8080/"
        },
        "id": "Qw2uQ1U5WMPC",
        "outputId": "3ccf6c26-4730-441b-803f-a7b89391af67"
      },
      "execution_count": 97,
      "outputs": [
        {
          "output_type": "stream",
          "name": "stdout",
          "text": [
            "\n",
            "Confusion matrix:\n",
            "+---------------+----------+--------------+-----------------+\n",
            "|               |   sandal |   strawberry |   traffic light |\n",
            "+===============+==========+==============+=================+\n",
            "| sandal        |       41 |           12 |              17 |\n",
            "+---------------+----------+--------------+-----------------+\n",
            "| strawberry    |        2 |           65 |               3 |\n",
            "+---------------+----------+--------------+-----------------+\n",
            "| traffic light |        5 |            3 |              65 |\n",
            "+---------------+----------+--------------+-----------------+\n",
            "Accuracy: 0.8028169014084507\n",
            "Precision: 0.8098131271287857\n",
            "Recall: 0.8028169014084507\n",
            "F1: 0.7951832187911613\n"
          ]
        }
      ]
    },
    {
      "cell_type": "markdown",
      "source": [
        "Treniruotės istorijos vizualizacija"
      ],
      "metadata": {
        "id": "y87nef91WOSV"
      }
    },
    {
      "cell_type": "code",
      "source": [
        "plt.figure(figsize=(8, 5))\n",
        "plt.plot(train_losses, label='Training loss')\n",
        "plt.xlabel('Epoch')\n",
        "plt.ylabel('Average loss')\n",
        "plt.title('Training loss change')\n",
        "plt.legend()\n",
        "plt.show()"
      ],
      "metadata": {
        "colab": {
          "base_uri": "https://localhost:8080/",
          "height": 439
        },
        "id": "hgTlearaWPjo",
        "outputId": "0d289c78-93b9-42e6-a2cc-dc9691a691a0"
      },
      "execution_count": 98,
      "outputs": [
        {
          "output_type": "display_data",
          "data": {
            "text/plain": [
              "<Figure size 800x500 with 1 Axes>"
            ],
            "image/png": "[encoded data removed]"
          },
          "metadata": {}
        }
      ]
    }
  ]
}